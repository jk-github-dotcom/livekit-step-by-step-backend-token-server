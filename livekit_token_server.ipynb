{
 "cells": [
  {
   "cell_type": "code",
   "execution_count": 1,
   "id": "c193de16-bc1f-4683-8420-4ae6c1912311",
   "metadata": {},
   "outputs": [],
   "source": [
    "# Choose kernel \"Python (.venv_livekit_step_by_step)\"\n",
    "\n",
    "# python -m venv .venv_livekit_step_by_step\n",
    "# .venv_livekit_step_by_step\\scripts\\activate\n"
   ]
  },
  {
   "cell_type": "code",
   "execution_count": 2,
   "id": "03aced44-35af-485f-bdd4-19c108585fc9",
   "metadata": {},
   "outputs": [],
   "source": [
    "#!pip install -r requirements.txt\n",
    "#!pip install fastapi\n",
    "#!pip install uvicorn\n",
    "#!pip install livekit\n",
    "#!pip install livekit-api\n",
    "#!pip install python-dotenv\n",
    "\n",
    "# pip install ipykernel\n",
    "# python -m ipykernel install --user --name=.venv_livekit_step_by_step --display-name \"Python (.venv_livekit_step_by_step)\"\n",
    "# pip freeze > .req_venv_livekit_step_by_step"
   ]
  },
  {
   "cell_type": "code",
   "execution_count": null,
   "id": "07bfea8c-961e-40e4-880b-019601fff287",
   "metadata": {},
   "outputs": [],
   "source": [
    "# Documentation in README.md"
   ]
  },
  {
   "cell_type": "code",
   "execution_count": null,
   "id": "911a23c3-e50d-4936-bdec-c2e19f82ce0a",
   "metadata": {},
   "outputs": [],
   "source": [
    "# Run locally\n",
    "\n",
    "# cd backend\n",
    "# uvicorn livekit_token_server:app --reload --host 0.0.0.0 --port 8000\n",
    "\n",
    "# You can now access http://localhost:8000/token?identity=alice&room=test-room"
   ]
  },
  {
   "cell_type": "code",
   "execution_count": null,
   "id": "2eb2fb2e-26d4-41b5-bd5f-845e91624595",
   "metadata": {},
   "outputs": [],
   "source": [
    "# CORS update\n",
    "\n",
    "#app.add_middleware(\n",
    "#    CORSMiddleware,\n",
    "#    allow_origins=[\n",
    "#        \"http://localhost:5173\",                      # Vite local dev\n",
    "#        \"https://your-frontend.netlify.app\",          # If you deploy on Netlify\n",
    "#        \"https://your-frontend.vercel.app\",           # If you use Vercel\n",
    "#    ],\n",
    "#    allow_credentials=True,\n",
    "#    allow_methods=[\"*\"],\n",
    "#    allow_headers=[\"*\"],\n",
    "#)\n",
    "\n",
    "# If you leave it as \"*\" during development, it's fine — but in production you should limit it to your actual domain."
   ]
  },
  {
   "cell_type": "code",
   "execution_count": 13,
   "id": "a738059f-965d-4ead-ade6-a22b4196e1a8",
   "metadata": {},
   "outputs": [],
   "source": [
    "import os\n",
    "from dotenv import load_dotenv\n",
    "\n",
    "from fastapi import FastAPI, Request\n",
    "from fastapi.middleware.cors import CORSMiddleware\n",
    "from livekit import api\n",
    "\n",
    "load_dotenv()\n",
    "app = FastAPI()\n",
    "\n",
    "# Allow requests from Vite dev server or Netlify\n",
    "app.add_middleware(\n",
    "    CORSMiddleware,\n",
    "    allow_origins=[\"*\"],  # In production, restrict this to your frontend URL\n",
    "    allow_credentials=True,\n",
    "    allow_methods=[\"*\"],\n",
    "    allow_headers=[\"*\"],\n",
    ")\n",
    "\n",
    "@app.get(\"/token\")\n",
    "async def get_token(identity: str, room: str):\n",
    "    token = api.AccessToken(os.getenv(\"LIVEKIT_API_KEY\"), os.getenv(\"LIVEKIT_SECRET\")) \\\n",
    "        .with_identity(identity) \\\n",
    "        .with_grants(api.VideoGrants(\n",
    "        room_join=True,\n",
    "        room=room\n",
    "        ))\n",
    "    return {\"token\": token.to_jwt()}\n"
   ]
  },
  {
   "cell_type": "code",
   "execution_count": null,
   "id": "5eefbfcc-f4fa-40b2-941e-fb4820f21df6",
   "metadata": {},
   "outputs": [],
   "source": []
  }
 ],
 "metadata": {
  "kernelspec": {
   "display_name": "Python (.venv_livekit_step_by_step)",
   "language": "python",
   "name": ".venv_livekit_step_by_step"
  },
  "language_info": {
   "codemirror_mode": {
    "name": "ipython",
    "version": 3
   },
   "file_extension": ".py",
   "mimetype": "text/x-python",
   "name": "python",
   "nbconvert_exporter": "python",
   "pygments_lexer": "ipython3",
   "version": "3.12.0"
  }
 },
 "nbformat": 4,
 "nbformat_minor": 5
}
